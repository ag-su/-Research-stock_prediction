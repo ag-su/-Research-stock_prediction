{
 "cells": [
  {
   "attachments": {},
   "cell_type": "markdown",
   "id": "4fc73538-782a-4a55-b31d-fd44803e3653",
   "metadata": {},
   "source": [
    "---\n",
    "title: \"[stock prediction] 2.2 주가 데이터 스케일링\"\n",
    "author: \"agsu\"\n",
    "date: \"7/11/2022\"\n",
    "format: \n",
    "  html:\n",
    "    code-fold: false\n",
    "jupyter: python3\n",
    "categories: [project, stock prediction]\n",
    "image: ../image/stock4.png\n",
    "---"
   ]
  },
  {
   "attachments": {},
   "cell_type": "markdown",
   "id": "9bcfb8b8",
   "metadata": {
    "tags": []
   },
   "source": [
    "# 2. Data Preprocessing  \n",
    "## 2.2. 주가 데이터 스케일링\n",
    "이전 글 [2.1 주가 데이터셋 보조지표  추가](https://ag-su.github.io/blog/posts/03.add_index.html)까지 주가 데이터에 보조지표를 추가하여 설명변수를 50개 가량 늘렸다. 그런데 현재 사용하고 있는 통합 종목 주가 데이터는 종목마다 가격이 다르다는 문제점이 존재한다. 이는 성능을 저하시기는 원인이 될 수 있다. 따라서 주가 데이터셋의 전처리 파트에서 스케일링은 매우 중요한 요소라고할 수 있다. `min-max scaling`을 여러 방법으로 시도하고, 전 날 종가로 나누는 `div-close` 방법을 사용하여 총 4가지 스케일링 성능을 비교해보도록 하겠다. \n",
    "\n",
    "\n",
    "### 목차 \n",
    "- (1) 스케일러 비교   \n",
    "- (2) 스케일러 선택 "
   ]
  },
  {
   "cell_type": "markdown",
   "id": "84c9252b",
   "metadata": {},
   "source": [
    "### 필요 라이브러리 import "
   ]
  },
  {
   "cell_type": "code",
   "execution_count": 1,
   "id": "b10171d8",
   "metadata": {},
   "outputs": [
    {
     "name": "stdout",
     "output_type": "stream",
     "text": [
      "Populating the interactive namespace from numpy and matplotlib\n"
     ]
    }
   ],
   "source": [
    "import pandas as pd\n",
    "import numpy as np\n",
    "from tqdm import tqdm\n",
    "import FinanceDataReader as fdr\n",
    "import pymysql\n",
    "\n",
    "import warnings\n",
    "warnings.filterwarnings('ignore')\n",
    "    \n",
    "import ta\n",
    "\n",
    "from ipywidgets import interact, interact_manual\n",
    "import matplotlib.pyplot as plt\n",
    "import seaborn as sns\n",
    "import plotly.graph_objects as go\n",
    "import plotly.offline as pyo\n",
    "%matplotlib inline\n",
    "%pylab inline\n",
    "pylab.rcParams['figure.figsize'] = (12,5)\n",
    "\n",
    "\n",
    "# 자주쓰는 함수들은 모듈화 함 \n",
    "import StockFunc as sf "
   ]
  },
  {
   "cell_type": "markdown",
   "id": "bdefb176",
   "metadata": {},
   "source": [
    "<br>\n",
    "<br>\n",
    "\n",
    "## ✔️ (1) 스케일러 비교 "
   ]
  },
  {
   "attachments": {},
   "cell_type": "markdown",
   "id": "e60d97d1",
   "metadata": {},
   "source": [
    "### 1) min-max scaler (전체 컬럼 + 전체 데이터)\n",
    "모든 컬럼을 **독립적**으로 종목 별 **전체데이터**에 대해 `min-max scaling` 한다."
   ]
  },
  {
   "cell_type": "code",
   "execution_count": 2,
   "id": "afabeee9",
   "metadata": {},
   "outputs": [],
   "source": [
    "def make_dataset_minmax(trading):\n",
    "    from sklearn.preprocessing import MinMaxScaler\n",
    "    # 종목코드 불러오기 \n",
    "    IF = open('../data/code_list.txt')\n",
    "    lst_code = IF.readlines()\n",
    "\n",
    "    lst_X = []\n",
    "    lst_Y = []\n",
    "    lst_code_date = []\n",
    "    \n",
    "    db_dsml = pymysql.connect(\n",
    "        host = 'localhost', \n",
    "        port = 3306, \n",
    "        user = '[db username]', \n",
    "        passwd = '[db password]', \n",
    "        db = '[db name]', \n",
    "        charset = 'utf8'\n",
    "    )\n",
    "    cursor = db_dsml.cursor()\n",
    "    \n",
    "    \n",
    "    for code in tqdm(lst_code): \n",
    "        code = code.strip()\n",
    "        \n",
    "        sql_query = '''\n",
    "                    SELECT *\n",
    "                    FROM stock_{0}\n",
    "                    WHERE Date BETWEEN '2017-01-01' AND '2021-12-31'\n",
    "                    '''.format(code)\n",
    "\n",
    "        \n",
    "        stock = pd.read_sql(sql = sql_query, con = db_dsml) \n",
    "        stock['trading_value'] = stock['Close'] * stock['Volume']\n",
    "        \n",
    "        lst_stock = stock.values.tolist()\n",
    "\n",
    "        \n",
    "        # 🌟 scaling \n",
    "        df_temp = stock.drop(columns=['Date', 'Change', 'Next Change'])\n",
    "        scaler = MinMaxScaler()\n",
    "        scaled = scaler.fit_transform(df_temp)\n",
    "        \n",
    "        lst_stock_scaled = scaled.tolist()\n",
    "         \n",
    "        \n",
    "        for idx, row in enumerate(lst_stock): \n",
    "            date, trading_value = row[0].date().strftime(\"%Y-%m-%d\"), row[-1]\n",
    "            if trading_value >= trading:\n",
    "                if (idx < 9) or (idx >= len(lst_stock)-1): # 예외 처리 \n",
    "                    continue \n",
    "                \n",
    "                # D-9 ~ D0 데이터만 담기 \n",
    "                sub_stock = lst_stock_scaled[idx-9:idx+1] \n",
    "\n",
    "                # 10일간의 데이터 \n",
    "                lst_result = []\n",
    "                for row2 in sub_stock:\n",
    "                    lst_result += row2\n",
    "\n",
    "                # D+1 종가 2% 상승 여부 \n",
    "                label = int(row[7] >= 0.02)\n",
    "                \n",
    "                # 종속변수, 독립변수, 종목코드, 날짜 리스트에 추가 \n",
    "                lst_X.append(lst_result)\n",
    "                lst_Y.append(label)\n",
    "                lst_code_date.append([code, date])\n",
    "            \n",
    "    return pd.concat([pd.DataFrame(lst_code_date), pd.DataFrame(lst_X), pd.DataFrame(lst_Y)], axis=1)"
   ]
  },
  {
   "cell_type": "code",
   "execution_count": 3,
   "id": "ea8ed68a",
   "metadata": {},
   "outputs": [
    {
     "name": "stderr",
     "output_type": "stream",
     "text": [
      "100%|██████████████████████████████████████████| 1561/1561 [03:37<00:00,  7.18it/s]\n"
     ]
    }
   ],
   "source": [
    "df_dataset = make_dataset_minmax(trading=1000000000)"
   ]
  },
  {
   "cell_type": "code",
   "execution_count": 4,
   "id": "9b369611",
   "metadata": {},
   "outputs": [
    {
     "name": "stdout",
     "output_type": "stream",
     "text": [
      "train dataset:  (659095, 550) (659095,)\n",
      "test dataset:  (239818, 550) (239818,)\n"
     ]
    }
   ],
   "source": [
    "trainX_1, trainY_1, testX_1, testY_1, lst_code_date, lst_code_date_test = sf.split(df_dataset)\n",
    "\n",
    "print('train dataset: ', trainX_1.shape, trainY_1.shape)\n",
    "print('test dataset: ', testX_1.shape, testY_1.shape)"
   ]
  },
  {
   "cell_type": "code",
   "execution_count": 5,
   "id": "7237cf43",
   "metadata": {},
   "outputs": [
    {
     "name": "stdout",
     "output_type": "stream",
     "text": [
      "[15:05:37] WARNING: ../src/learner.cc:1115: Starting in XGBoost 1.3.0, the default evaluation metric used with the objective 'binary:logistic' was changed from 'error' to 'logloss'. Explicitly set eval_metric if you'd like to restore the old behavior.\n"
     ]
    },
    {
     "data": {
      "text/plain": [
       "XGBClassifier(base_score=0.5, booster='gbtree', colsample_bylevel=1,\n",
       "              colsample_bynode=1, colsample_bytree=1, enable_categorical=False,\n",
       "              gamma=0, gpu_id=-1, importance_type=None,\n",
       "              interaction_constraints='', learning_rate=0.01, max_delta_step=0,\n",
       "              max_depth=3, min_child_weight=1, missing=nan,\n",
       "              monotone_constraints='()', n_estimators=500, n_jobs=40,\n",
       "              num_parallel_tree=1, predictor='auto', random_state=0,\n",
       "              reg_alpha=0, reg_lambda=1, scale_pos_weight=4, subsample=1,\n",
       "              tree_method='exact', validate_parameters=1, verbosity=None)"
      ]
     },
     "execution_count": 5,
     "metadata": {},
     "output_type": "execute_result"
    }
   ],
   "source": [
    "from xgboost import XGBClassifier\n",
    "xgb_1 = XGBClassifier(\n",
    "                   n_jobs=40,\n",
    "                   scale_pos_weight=4,\n",
    "                   learning_rate=0.01,\n",
    "                   max_depth=3,\n",
    "                   n_estimators=500,\n",
    "                   ) \n",
    "\n",
    "xgb_1.fit(trainX_1, trainY_1)"
   ]
  },
  {
   "cell_type": "code",
   "execution_count": 6,
   "id": "1127bdb2",
   "metadata": {},
   "outputs": [
    {
     "data": {
      "image/png": "[encoded data removed]",
      "text/plain": [
       "<Figure size 864x360 with 1 Axes>"
      ]
     },
     "metadata": {
      "needs_background": "light"
     },
     "output_type": "display_data"
    },
    {
     "data": {
      "image/png": "[encoded data removed]",
      "text/plain": [
       "<Figure size 864x360 with 1 Axes>"
      ]
     },
     "metadata": {
      "needs_background": "light"
     },
     "output_type": "display_data"
    }
   ],
   "source": [
    "sf.plot_evauate(trainX_1, trainY_1, testX_1, testY_1, xgb_1)"
   ]
  },
  {
   "attachments": {},
   "cell_type": "markdown",
   "id": "f2df8c5a",
   "metadata": {},
   "source": [
    "ROCAUC 점수가 지난 0.595의 성능 보다는 향상된 0.613의 성능을 보여주었다.  "
   ]
  },
  {
   "attachments": {},
   "cell_type": "markdown",
   "id": "494707ac",
   "metadata": {},
   "source": [
    "<br>\n",
    "<br>\n",
    "\n",
    "### 2) min-max scaler (전체 컬럼 +  window size) \n",
    "모든 컬럼을 **독립적**으로 종목 별 **10일치**에 대해 `min-max scaling` 한다."
   ]
  },
  {
   "cell_type": "code",
   "execution_count": 47,
   "id": "38eb72ab",
   "metadata": {},
   "outputs": [],
   "source": [
    "def make_dataset_minmax_window(trading):\n",
    "    from sklearn.preprocessing import MinMaxScaler\n",
    "    # 종목코드 불러오기 \n",
    "    IF = open('../data/code_list.txt')\n",
    "    lst_code = IF.readlines()\n",
    "\n",
    "    lst_X = []\n",
    "    lst_Y = []\n",
    "    lst_code_date = []\n",
    "    \n",
    "    db_dsml = pymysql.connect(\n",
    "        host = 'localhost', \n",
    "        port = 3306, \n",
    "        user = '[db username]', \n",
    "        passwd = '[db password]', \n",
    "        db = '[db name]', \n",
    "        charset = 'utf8'\n",
    "    )\n",
    "    cursor = db_dsml.cursor()\n",
    "    \n",
    "    \n",
    "    for code in tqdm(lst_code): \n",
    "        code = code.strip()\n",
    "        \n",
    "        sql_query = '''\n",
    "                    SELECT *\n",
    "                    FROM stock_{0}\n",
    "                    WHERE Date BETWEEN '2017-01-01' AND '2021-12-31'\n",
    "                    '''.format(code)\n",
    "\n",
    "        \n",
    "        stock = pd.read_sql(sql = sql_query, con = db_dsml) \n",
    "        stock['trading_value'] = stock['Close'] * stock['Volume']\n",
    "        \n",
    "        lst_stock = stock.values.tolist()\n",
    "\n",
    "        \n",
    "        for idx, row in enumerate(lst_stock): \n",
    "            date, trading_value = row[0].date().strftime(\"%Y-%m-%d\"), row[-1]\n",
    "            if trading_value >= trading:\n",
    "                if (idx < 9) or (idx >= len(lst_stock)-1): # 예외 처리 \n",
    "                    continue \n",
    "                \n",
    "                # D-9 ~ D0 데이터만 담기 \n",
    "                arr_sub_stock = np.array(lst_stock[idx-9:idx+1])\n",
    "\n",
    "                # 🌟 scaling \n",
    "                arr_temp = np.concatenate((arr_sub_stock[:, 1:6], arr_sub_stock[:, 8:]), axis=1) \n",
    "                scaler = MinMaxScaler()\n",
    "                scaled = scaler.fit_transform(np.array(arr_temp))\n",
    "\n",
    "                lst_sub_stock_scaled = scaled.tolist()\n",
    "                \n",
    "                # 10일간의 데이터 \n",
    "                lst_result = []\n",
    "                for row2 in lst_sub_stock_scaled:\n",
    "                    lst_result += row2\n",
    "\n",
    "                # D+1 종가 2% 상승 여부 \n",
    "                label = int(row[7] >= 0.02)\n",
    "                \n",
    "                # 종속변수, 독립변수, 종목코드, 날짜 리스트에 추가 \n",
    "                lst_X.append(lst_result)\n",
    "                lst_Y.append(label)\n",
    "                lst_code_date.append([code, date])\n",
    "            \n",
    "    return pd.concat([pd.DataFrame(lst_code_date), pd.DataFrame(lst_X), pd.DataFrame(lst_Y)], axis=1)"
   ]
  },
  {
   "cell_type": "code",
   "execution_count": 49,
   "id": "51ba307e",
   "metadata": {},
   "outputs": [
    {
     "name": "stderr",
     "output_type": "stream",
     "text": [
      "100%|██████████████████████████████████████████| 1561/1561 [05:53<00:00,  4.41it/s]\n"
     ]
    }
   ],
   "source": [
    "df_dataset = make_dataset_minmax_window(trading=1000000000)"
   ]
  },
  {
   "cell_type": "code",
   "execution_count": 50,
   "id": "62955aaa",
   "metadata": {},
   "outputs": [
    {
     "name": "stdout",
     "output_type": "stream",
     "text": [
      "train dataset:  (659095, 550) (659095,)\n",
      "test dataset:  (239818, 550) (239818,)\n"
     ]
    }
   ],
   "source": [
    "trainX_2, trainY_2, testX_2, testY_2, lst_code_date, lst_code_date_test = sf.split(df_dataset)\n",
    "\n",
    "print('train dataset: ', trainX_2.shape, trainY_2.shape)\n",
    "print('test dataset: ', testX_2.shape, testY_2.shape)"
   ]
  },
  {
   "cell_type": "code",
   "execution_count": 51,
   "id": "42b73176",
   "metadata": {},
   "outputs": [
    {
     "name": "stdout",
     "output_type": "stream",
     "text": [
      "[16:05:07] WARNING: ../src/learner.cc:1115: Starting in XGBoost 1.3.0, the default evaluation metric used with the objective 'binary:logistic' was changed from 'error' to 'logloss'. Explicitly set eval_metric if you'd like to restore the old behavior.\n"
     ]
    },
    {
     "data": {
      "text/plain": [
       "XGBClassifier(base_score=0.5, booster='gbtree', colsample_bylevel=1,\n",
       "              colsample_bynode=1, colsample_bytree=1, enable_categorical=False,\n",
       "              gamma=0, gpu_id=-1, importance_type=None,\n",
       "              interaction_constraints='', learning_rate=0.01, max_delta_step=0,\n",
       "              max_depth=3, min_child_weight=1, missing=nan,\n",
       "              monotone_constraints='()', n_estimators=500, n_jobs=40,\n",
       "              num_parallel_tree=1, predictor='auto', random_state=0,\n",
       "              reg_alpha=0, reg_lambda=1, scale_pos_weight=4, subsample=1,\n",
       "              tree_method='exact', validate_parameters=1, verbosity=None)"
      ]
     },
     "execution_count": 51,
     "metadata": {},
     "output_type": "execute_result"
    }
   ],
   "source": [
    "from xgboost import XGBClassifier\n",
    "xgb_2 = XGBClassifier(\n",
    "                   n_jobs=40,\n",
    "                   scale_pos_weight=4,\n",
    "                   learning_rate=0.01,\n",
    "                   max_depth=3,\n",
    "                   n_estimators=500,\n",
    "                   ) \n",
    "\n",
    "xgb_2.fit(trainX_2, trainY_2)"
   ]
  },
  {
   "cell_type": "code",
   "execution_count": 52,
   "id": "177c3113",
   "metadata": {},
   "outputs": [
    {
     "data": {
      "image/png": "[encoded data removed]",
      "text/plain": [
       "<Figure size 864x360 with 1 Axes>"
      ]
     },
     "metadata": {
      "needs_background": "light"
     },
     "output_type": "display_data"
    },
    {
     "data": {
      "image/png": "[encoded data removed]",
      "text/plain": [
       "<Figure size 864x360 with 1 Axes>"
      ]
     },
     "metadata": {
      "needs_background": "light"
     },
     "output_type": "display_data"
    }
   ],
   "source": [
    "sf.plot_evauate(trainX_2, trainY_2, testX_2, testY_2, xgb_2)"
   ]
  },
  {
   "attachments": {},
   "cell_type": "markdown",
   "id": "d1d1002c",
   "metadata": {},
   "source": [
    "지난 글에서 0.595 였던 ROCAUC 성능이 0.575로 하락한 것을 보였다. "
   ]
  },
  {
   "attachments": {},
   "cell_type": "markdown",
   "id": "4f417c90",
   "metadata": {},
   "source": [
    "<br>\n",
    "<br>\n",
    "\n",
    "### 3) min-max scaler (가격 관련 컬럼 + 전체 데이터) \n",
    "- **가격 관련 컬럼:** 캔들차트의 최솟값, 최댓값으로 min-max scaling\n",
    "- **나머지 컬럼:** scaling 하지 않는다."
   ]
  },
  {
   "cell_type": "code",
   "execution_count": 53,
   "id": "5321f201",
   "metadata": {},
   "outputs": [],
   "source": [
    "def make_dataset_minmax_price(trading):\n",
    "    from sklearn.preprocessing import MinMaxScaler\n",
    "    \n",
    "    col_price = ['Open', 'High', 'Low', 'Close', 'MA5', 'MA20', 'MA60', 'MA120', \n",
    "               'VMAP', 'BHB', 'BLB', 'KCH', 'KCL', 'KCM', 'DCH', 'DCL', 'DCM',\n",
    "               'SMA', 'EMA', 'WMA', 'Ichimoku', 'Parabolic SAR', 'KAMA','MACD']   \n",
    "\n",
    "    col_etc = ['Volume', 'MFI', 'ADI', 'OBV',\n",
    "           'CMF', 'FI', 'EOM, EMV', 'VPT', 'NVI', 'ATR', 'UI',\n",
    "           'ADX', '-VI', '+VI', 'TRIX', 'MI', 'CCI', 'DPO', 'KST',\n",
    "           'STC', 'RSI', 'SRSI', 'TSI', 'UO', 'SR',\n",
    "           'WR', 'AO', 'ROC', 'PPO', 'PVO', 'trading_value']\n",
    "    \n",
    "    # 종목코드 불러오기 \n",
    "    IF = open('../data/code_list.txt')\n",
    "    lst_code = IF.readlines()\n",
    "\n",
    "    lst_X = []\n",
    "    lst_Y = []\n",
    "    lst_code_date = []\n",
    "    \n",
    "    db_dsml = pymysql.connect(\n",
    "        host = 'localhost', \n",
    "        port = 3306, \n",
    "        user = '[db username]', \n",
    "        passwd = '[db password]', \n",
    "        db = '[db name]', \n",
    "        charset = 'utf8'\n",
    "    )\n",
    "    cursor = db_dsml.cursor()\n",
    "    \n",
    "    \n",
    "    for code in tqdm(lst_code): \n",
    "        code = code.strip()\n",
    "        \n",
    "        sql_query = '''\n",
    "                    SELECT *\n",
    "                    FROM stock_{0}\n",
    "                    WHERE Date BETWEEN '2017-01-01' AND '2021-12-31'\n",
    "                    '''.format(code)\n",
    "\n",
    "        \n",
    "        stock = pd.read_sql(sql = sql_query, con = db_dsml) \n",
    "        stock['trading_value'] = stock['Close'] * stock['Volume']\n",
    "        \n",
    "        lst_stock = stock.values.tolist()\n",
    "\n",
    "        \n",
    "        # 🌟 scaling\n",
    "        # 1) 가격 관련 컬럼 \n",
    "        df_price = stock[col_price]\n",
    "        minimum = df_price['Low'].min()\n",
    "        maximum = df_price['High'].max()\n",
    "        df_price_scaled = df_price.apply(lambda x: (x-minimum) / (maximum-minimum))\n",
    "        \n",
    "        # 2) 나머지 컬럼 \n",
    "        df_etc = stock[col_etc]\n",
    "        \n",
    "        df_scaled = pd.concat([df_price_scaled, df_etc_scaled], axis=1)\n",
    "        \n",
    "        lst_stock_scaled = df_scaled.values.tolist()\n",
    "         \n",
    "            \n",
    "        for idx, row in enumerate(lst_stock): \n",
    "            date, trading_value = row[0].date().strftime(\"%Y-%m-%d\"), row[-1]\n",
    "            if trading_value >= trading:\n",
    "                if (idx < 9) or (idx >= len(lst_stock)-1): # 예외 처리 \n",
    "                    continue \n",
    "                \n",
    "                # D-9 ~ D0 데이터만 담기 \n",
    "                sub_stock = lst_stock_scaled[idx-9:idx+1] \n",
    "\n",
    "                # 10일간의 데이터 \n",
    "                lst_result = []\n",
    "                for row2 in sub_stock:\n",
    "                    lst_result += row2\n",
    "\n",
    "                # D+1 종가 2% 상승 여부 \n",
    "                label = int(row[7] >= 0.02)\n",
    "                \n",
    "                # 종속변수, 독립변수, 종목코드, 날짜 리스트에 추가 \n",
    "                lst_X.append(lst_result)\n",
    "                lst_Y.append(label)\n",
    "                lst_code_date.append([code, date])\n",
    "            \n",
    "    return pd.concat([pd.DataFrame(lst_code_date), pd.DataFrame(lst_X), pd.DataFrame(lst_Y)], axis=1)"
   ]
  },
  {
   "cell_type": "code",
   "execution_count": 54,
   "id": "7f5e2ca4",
   "metadata": {
    "scrolled": true
   },
   "outputs": [
    {
     "name": "stderr",
     "output_type": "stream",
     "text": [
      "100%|██████████████████████████████████████████| 1561/1561 [03:53<00:00,  6.68it/s]\n"
     ]
    }
   ],
   "source": [
    "df_dataset = make_dataset_minmax_price(trading=1000000000)"
   ]
  },
  {
   "cell_type": "code",
   "execution_count": 55,
   "id": "220a2c77",
   "metadata": {},
   "outputs": [
    {
     "name": "stdout",
     "output_type": "stream",
     "text": [
      "train dataset:  (659095, 550) (659095,)\n",
      "test dataset:  (239818, 550) (239818,)\n"
     ]
    }
   ],
   "source": [
    "trainX_3, trainY_3, testX_3, testY_3, lst_code_date, lst_code_date_test = sf.split(df_dataset)\n",
    "\n",
    "print('train dataset: ', trainX_3.shape, trainY_3.shape)\n",
    "print('test dataset: ', testX_3.shape, testY_3.shape)"
   ]
  },
  {
   "cell_type": "code",
   "execution_count": 56,
   "id": "d72f04d9",
   "metadata": {},
   "outputs": [
    {
     "name": "stdout",
     "output_type": "stream",
     "text": [
      "[16:15:14] WARNING: ../src/learner.cc:1115: Starting in XGBoost 1.3.0, the default evaluation metric used with the objective 'binary:logistic' was changed from 'error' to 'logloss'. Explicitly set eval_metric if you'd like to restore the old behavior.\n"
     ]
    },
    {
     "data": {
      "text/plain": [
       "XGBClassifier(base_score=0.5, booster='gbtree', colsample_bylevel=1,\n",
       "              colsample_bynode=1, colsample_bytree=1, enable_categorical=False,\n",
       "              gamma=0, gpu_id=-1, importance_type=None,\n",
       "              interaction_constraints='', learning_rate=0.01, max_delta_step=0,\n",
       "              max_depth=3, min_child_weight=1, missing=nan,\n",
       "              monotone_constraints='()', n_estimators=500, n_jobs=40,\n",
       "              num_parallel_tree=1, predictor='auto', random_state=0,\n",
       "              reg_alpha=0, reg_lambda=1, scale_pos_weight=4, subsample=1,\n",
       "              tree_method='exact', validate_parameters=1, verbosity=None)"
      ]
     },
     "execution_count": 56,
     "metadata": {},
     "output_type": "execute_result"
    }
   ],
   "source": [
    "from xgboost import XGBClassifier\n",
    "xgb_3 = XGBClassifier(\n",
    "                   n_jobs=40,\n",
    "                   scale_pos_weight=4,\n",
    "                   learning_rate=0.01,\n",
    "                   max_depth=3,\n",
    "                   n_estimators=500,\n",
    "                   ) \n",
    "\n",
    "xgb_3.fit(trainX_3, trainY_3)"
   ]
  },
  {
   "cell_type": "code",
   "execution_count": 57,
   "id": "a9b2bb56",
   "metadata": {},
   "outputs": [
    {
     "data": {
      "image/png": "[encoded data removed]",
      "text/plain": [
       "<Figure size 864x360 with 1 Axes>"
      ]
     },
     "metadata": {
      "needs_background": "light"
     },
     "output_type": "display_data"
    },
    {
     "data": {
      "image/png": "[encoded data removed]",
      "text/plain": [
       "<Figure size 864x360 with 1 Axes>"
      ]
     },
     "metadata": {
      "needs_background": "light"
     },
     "output_type": "display_data"
    }
   ],
   "source": [
    "sf.plot_evauate(trainX_3, trainY_3, testX_3, testY_3, xgb_3)"
   ]
  },
  {
   "attachments": {},
   "cell_type": "markdown",
   "id": "c8cdd88c",
   "metadata": {},
   "source": [
    "지난 글의 0.595 보다 향상된 성능을 보여주었다. "
   ]
  },
  {
   "attachments": {},
   "cell_type": "markdown",
   "id": "f8bdd5f4",
   "metadata": {},
   "source": [
    "<br>\n",
    "<br>\n",
    "\n",
    "### 4) div-previous_close (가격 관련 컬럼 + 전체 데이터)\n",
    "- **가격 관련 컬럼:** 전날 종가로 나누어 스케일링\n",
    "- **나머지 컬럼:** 스케일링 하지 않는다."
   ]
  },
  {
   "cell_type": "code",
   "execution_count": 58,
   "id": "a518b63f",
   "metadata": {},
   "outputs": [],
   "source": [
    "def make_dataset_div_previous_close(trading):\n",
    "    from sklearn.preprocessing import MinMaxScaler\n",
    "    \n",
    "    col_price = ['Open', 'High', 'Low', 'Close', 'MA5', 'MA20', 'MA60', 'MA120', \n",
    "               'VMAP', 'BHB', 'BLB', 'KCH', 'KCL', 'KCM', 'DCH', 'DCL', 'DCM',\n",
    "               'SMA', 'EMA', 'WMA', 'Ichimoku', 'Parabolic SAR', 'KAMA','MACD']   \n",
    "\n",
    "    col_etc = ['Volume', 'MFI', 'ADI', 'OBV',\n",
    "           'CMF', 'FI', 'EOM, EMV', 'VPT', 'NVI', 'ATR', 'UI',\n",
    "           'ADX', '-VI', '+VI', 'TRIX', 'MI', 'CCI', 'DPO', 'KST',\n",
    "           'STC', 'RSI', 'SRSI', 'TSI', 'UO', 'SR',\n",
    "           'WR', 'AO', 'ROC', 'PPO', 'PVO', 'trading_value']\n",
    "    \n",
    "    # 종목코드 불러오기 \n",
    "    IF = open('../data/code_list.txt')\n",
    "    lst_code = IF.readlines()\n",
    "\n",
    "    lst_X = []\n",
    "    lst_Y = []\n",
    "    lst_code_date = []\n",
    "    \n",
    "    db_dsml = pymysql.connect(\n",
    "        host = 'localhost', \n",
    "        port = 3306, \n",
    "        user = '[db username]', \n",
    "        passwd = '[db password]', \n",
    "        db = '[db name]', \n",
    "        charset = 'utf8'\n",
    "    )\n",
    "    cursor = db_dsml.cursor()\n",
    "    \n",
    "    \n",
    "    for code in tqdm(lst_code): \n",
    "        code = code.strip()\n",
    "        \n",
    "        sql_query = '''\n",
    "                    SELECT *\n",
    "                    FROM stock_{0}\n",
    "                    WHERE Date BETWEEN '2017-01-01' AND '2021-12-31'\n",
    "                    '''.format(code)\n",
    "\n",
    "        \n",
    "        stock = pd.read_sql(sql = sql_query, con = db_dsml) \n",
    "        stock['PrevClose'] = stock['Close'].shift(1) # 전 날 종가 컬럼 추가\n",
    "        stock.dropna(inplace=True)\n",
    "        stock = stock.reset_index(drop=True)\n",
    "        stock['trading_value'] = stock['Close'] * stock['Volume']\n",
    "        lst_stock = stock.values.tolist()\n",
    "\n",
    "        \n",
    "        # 🌟 scaling\n",
    "        # 1) 가격 관련 컬럼 \n",
    "        df_price = stock[col_price]\n",
    "        df_price_scaled = df_price.apply(lambda x: x / stock['PrevClose'])\n",
    "        \n",
    "        # 2) 나머지 컬럼 \n",
    "        df_etc = stock[col_etc]\n",
    "        \n",
    "        df_scaled = pd.concat([df_price_scaled, df_etc], axis=1)\n",
    "        lst_stock_scaled = df_scaled.values.tolist()\n",
    "\n",
    "        \n",
    "        for idx, row in enumerate(lst_stock): \n",
    "            date, trading_value = row[0].date().strftime(\"%Y-%m-%d\"), row[-1]\n",
    "            if trading_value >= trading:\n",
    "                if (idx < 9) or (idx >= len(lst_stock)-1): # 예외 처리 \n",
    "                    continue \n",
    "                \n",
    "                # D-9 ~ D0 데이터만 담기 \n",
    "                sub_stock = lst_stock_scaled[idx-9:idx+1] \n",
    "\n",
    "                # 10일간의 데이터 \n",
    "                lst_result = []\n",
    "                for row2 in sub_stock:               \n",
    "                    lst_result += row2\n",
    "\n",
    "                # D+1 종가 2% 상승 여부 \n",
    "                label = int(row[7] >= 0.02)\n",
    "                \n",
    "                # 종속변수, 독립변수, 종목코드, 날짜 리스트에 추가 \n",
    "                lst_X.append(lst_result)\n",
    "                lst_Y.append(label)\n",
    "                lst_code_date.append([code, date])\n",
    "            \n",
    "    return pd.concat([pd.DataFrame(lst_code_date), pd.DataFrame(lst_X), pd.DataFrame(lst_Y)], axis=1)"
   ]
  },
  {
   "cell_type": "code",
   "execution_count": 59,
   "id": "59b02255",
   "metadata": {
    "scrolled": true
   },
   "outputs": [
    {
     "name": "stderr",
     "output_type": "stream",
     "text": [
      "100%|██████████████████████████████████████████| 1561/1561 [03:53<00:00,  6.70it/s]\n"
     ]
    }
   ],
   "source": [
    "df_dataset = make_dataset_div_previous_close(trading=1000000000)"
   ]
  },
  {
   "cell_type": "code",
   "execution_count": 60,
   "id": "11c90aa6",
   "metadata": {},
   "outputs": [
    {
     "name": "stdout",
     "output_type": "stream",
     "text": [
      "train dataset:  (658364, 550) (658364,)\n",
      "test dataset:  (239817, 550) (239817,)\n"
     ]
    }
   ],
   "source": [
    "trainX_4, trainY_4, testX_4, testY_4, lst_code_date, lst_code_date_test = sf.split(df_dataset)\n",
    "\n",
    "print('train dataset: ', trainX_4.shape, trainY_4.shape)\n",
    "print('test dataset: ', testX_4.shape, testY_4.shape)"
   ]
  },
  {
   "cell_type": "code",
   "execution_count": 61,
   "id": "a4dcac93",
   "metadata": {},
   "outputs": [
    {
     "name": "stdout",
     "output_type": "stream",
     "text": [
      "[16:26:12] WARNING: ../src/learner.cc:1115: Starting in XGBoost 1.3.0, the default evaluation metric used with the objective 'binary:logistic' was changed from 'error' to 'logloss'. Explicitly set eval_metric if you'd like to restore the old behavior.\n"
     ]
    },
    {
     "data": {
      "text/plain": [
       "XGBClassifier(base_score=0.5, booster='gbtree', colsample_bylevel=1,\n",
       "              colsample_bynode=1, colsample_bytree=1, enable_categorical=False,\n",
       "              gamma=0, gpu_id=-1, importance_type=None,\n",
       "              interaction_constraints='', learning_rate=0.01, max_delta_step=0,\n",
       "              max_depth=3, min_child_weight=1, missing=nan,\n",
       "              monotone_constraints='()', n_estimators=500, n_jobs=40,\n",
       "              num_parallel_tree=1, predictor='auto', random_state=0,\n",
       "              reg_alpha=0, reg_lambda=1, scale_pos_weight=4, subsample=1,\n",
       "              tree_method='exact', validate_parameters=1, verbosity=None)"
      ]
     },
     "execution_count": 61,
     "metadata": {},
     "output_type": "execute_result"
    }
   ],
   "source": [
    "from xgboost import XGBClassifier\n",
    "xgb_4 = XGBClassifier(\n",
    "                   n_jobs=40,\n",
    "                   scale_pos_weight=4,\n",
    "                   learning_rate=0.01,\n",
    "                   max_depth=3,\n",
    "                   n_estimators=500,\n",
    "                   ) \n",
    "\n",
    "xgb_4.fit(trainX_4, trainY_4)"
   ]
  },
  {
   "cell_type": "code",
   "execution_count": 62,
   "id": "06072484",
   "metadata": {},
   "outputs": [
    {
     "data": {
      "image/png": "[encoded data removed]",
      "text/plain": [
       "<Figure size 864x360 with 1 Axes>"
      ]
     },
     "metadata": {
      "needs_background": "light"
     },
     "output_type": "display_data"
    },
    {
     "data": {
      "image/png": "[encoded data removed]",
      "text/plain": [
       "<Figure size 864x360 with 1 Axes>"
      ]
     },
     "metadata": {
      "needs_background": "light"
     },
     "output_type": "display_data"
    }
   ],
   "source": [
    "sf.plot_evauate(trainX_4, trainY_4, testX_4, testY_4, xgb_4)"
   ]
  },
  {
   "attachments": {},
   "cell_type": "markdown",
   "id": "e552afbc",
   "metadata": {},
   "source": [
    "지난 글 0.595 보다 성능 향상이 된 것을 확인하였다."
   ]
  },
  {
   "cell_type": "markdown",
   "id": "63e67024",
   "metadata": {},
   "source": [
    "<br>\n",
    "<br>\n",
    "\n",
    "## (2) 스케일러 선택"
   ]
  },
  {
   "attachments": {},
   "cell_type": "markdown",
   "id": "07eeddc7",
   "metadata": {},
   "source": [
    "스케일링을 통해 이전보다 크게 성능 향상이 되었다. 서로 다른 종목 별 가격의 범위를 조정해 주는 작업은 중요하다는 것을 확인하였다. 수익률 시뮬레이션까지 해 본 후, 네 가지 방법 중 지속적으로 사용할 스케일러를 선택하도록 한다. "
   ]
  },
  {
   "cell_type": "markdown",
   "id": "6287f343",
   "metadata": {},
   "source": [
    "### 수익률 비교 "
   ]
  },
  {
   "cell_type": "code",
   "execution_count": 67,
   "id": "cf118bc7",
   "metadata": {},
   "outputs": [
    {
     "name": "stderr",
     "output_type": "stream",
     "text": [
      "100%|████████████████████████████████████████████| 202/202 [00:04<00:00, 42.12it/s]"
     ]
    },
    {
     "name": "stdout",
     "output_type": "stream",
     "text": [
      "Final earning rate : 462.37913 %\n"
     ]
    },
    {
     "name": "stderr",
     "output_type": "stream",
     "text": [
      "\n"
     ]
    }
   ],
   "source": [
    "sf.compute_earnings_rate(lst_code_date_test, xgb_1, testX_1, threshold=0.75)"
   ]
  },
  {
   "cell_type": "code",
   "execution_count": 68,
   "id": "cf6db8bd",
   "metadata": {},
   "outputs": [
    {
     "name": "stderr",
     "output_type": "stream",
     "text": [
      "0it [00:00, ?it/s]"
     ]
    },
    {
     "name": "stdout",
     "output_type": "stream",
     "text": [
      "Final earning rate : 0.0 %\n"
     ]
    },
    {
     "name": "stderr",
     "output_type": "stream",
     "text": [
      "\n"
     ]
    }
   ],
   "source": [
    "sf.compute_earnings_rate(lst_code_date_test, xgb_2, testX_2, threshold=0.75)"
   ]
  },
  {
   "cell_type": "code",
   "execution_count": 69,
   "id": "03b000a7",
   "metadata": {},
   "outputs": [
    {
     "name": "stderr",
     "output_type": "stream",
     "text": [
      "100%|████████████████████████████████████████████| 222/222 [00:05<00:00, 43.23it/s]"
     ]
    },
    {
     "name": "stdout",
     "output_type": "stream",
     "text": [
      "Final earning rate : 124.50311 %\n"
     ]
    },
    {
     "name": "stderr",
     "output_type": "stream",
     "text": [
      "\n"
     ]
    }
   ],
   "source": [
    "sf.compute_earnings_rate(lst_code_date_test, xgb_3, testX_3, threshold=0.75)"
   ]
  },
  {
   "cell_type": "code",
   "execution_count": 70,
   "id": "9db3219f",
   "metadata": {},
   "outputs": [
    {
     "name": "stderr",
     "output_type": "stream",
     "text": [
      "100%|████████████████████████████████████████████| 260/260 [00:06<00:00, 42.78it/s]"
     ]
    },
    {
     "name": "stdout",
     "output_type": "stream",
     "text": [
      "Final earning rate : 1487.42557 %\n"
     ]
    },
    {
     "name": "stderr",
     "output_type": "stream",
     "text": [
      "\n"
     ]
    }
   ],
   "source": [
    "sf.compute_earnings_rate(lst_code_date_test, xgb_4, testX_4, threshold=0.75)"
   ]
  },
  {
   "attachments": {},
   "cell_type": "markdown",
   "id": "b47d0f9a",
   "metadata": {},
   "source": [
    "<br>\n",
    "\n",
    "예측확률 임계값을 0.75로 설정하였는데, `4) 전 날 종가로 나누기` 방법의 스케일링이 가장 매매 개수가 많았다. 1년 동안 130번의 매수가 일어났음을 알 수 있다. 그와 동시에 수익률 시뮬레이션에서 수익률이 가장 높게 나온 전 날 종가로 나누는 스케일링 방법을 최종적으로 선택한다."
   ]
  }
 ],
 "metadata": {
  "kernelspec": {
   "display_name": "Python 3 (ipykernel)",
   "language": "python",
   "name": "python3"
  },
  "language_info": {
   "codemirror_mode": {
    "name": "ipython",
    "version": 3
   },
   "file_extension": ".py",
   "mimetype": "text/x-python",
   "name": "python",
   "nbconvert_exporter": "python",
   "pygments_lexer": "ipython3",
   "version": "3.9.12"
  },
  "toc": {
   "base_numbering": 1,
   "nav_menu": {},
   "number_sections": false,
   "sideBar": true,
   "skip_h1_title": false,
   "title_cell": "Table of Contents",
   "title_sidebar": "Contents",
   "toc_cell": false,
   "toc_position": {},
   "toc_section_display": true,
   "toc_window_display": false
  }
 },
 "nbformat": 4,
 "nbformat_minor": 5
}
