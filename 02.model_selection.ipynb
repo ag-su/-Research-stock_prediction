{
 "cells": [
  {
   "attachments": {},
   "cell_type": "markdown",
   "id": "76980776-071a-4614-b746-542e86fde761",
   "metadata": {},
   "source": [
    "---\n",
    "title: \"[stock prediction] 1.2 머신러닝 모델 비교\"\n",
    "author: \"agsu\"\n",
    "date: \"7/08/2022\"\n",
    "format: \n",
    "  html:\n",
    "    code-fold: false\n",
    "jupyter: python3\n",
    "categories: [project, stock prediction]\n",
    "image: ../image/stock2.png\n",
    "---"
   ]
  },
  {
   "attachments": {},
   "cell_type": "markdown",
   "id": "35c4905c",
   "metadata": {},
   "source": [
    "# 1. baseline model  \n",
    "## 1.2 머신러닝 모델 비교 \n",
    "\n",
    "이전 글 ([1.1. 머신러닝을 위한 주가 데이터셋 생성](https://ag-su.github.io/blog/posts/01.stock_dataset.html)) 에서는 머신러닝을 위한 시계열 구조의 데이터셋을 생성했다. 이번 글에서는 생성한 데이터셋을 사용하여 머신러닝 모델을 학습하고, 평가지표를 통해 여러 모델의 성능을 비교하여 가장 좋은 성능을 보이는 모델을 선택한다. 이를 통해 생성한 기본 시계열 데이터셋을 머신러닝 알고리즘으로 학습시켰을 때, 최소한의 성능과 수익률이 발생하는지 확인할 수 있고, 이를 통해 `baseline model`을 정의한다. \n",
    "\n",
    "<br>\n",
    "\n",
    "### 목차 \n",
    "- (1) 데이터 불러오기 \n",
    "- (2) 주가 예측 머신러닝 모델 학습  \n",
    "- (3) 평가지표 시각화를 통한 모델 평가 \n",
    "- (4) 모델 선택 \n",
    "\n",
    "<br>"
   ]
  },
  {
   "cell_type": "markdown",
   "id": "b3b7d879",
   "metadata": {},
   "source": [
    "### 필요 라이브러리 import "
   ]
  },
  {
   "cell_type": "code",
   "execution_count": 1,
   "id": "722fd9a0",
   "metadata": {},
   "outputs": [],
   "source": [
    "import pandas as pd\n",
    "import numpy as np\n",
    "from tqdm import tqdm\n",
    "import FinanceDataReader as fdr\n",
    "import pymysql\n",
    "\n",
    "import warnings\n",
    "warnings.filterwarnings('ignore')"
   ]
  },
  {
   "cell_type": "markdown",
   "id": "2a6db103",
   "metadata": {},
   "source": [
    "<br>\n",
    "<br>\n",
    "\n",
    "## 주가 예측 머신러닝 모델 비교"
   ]
  },
  {
   "cell_type": "markdown",
   "id": "e5a091bb",
   "metadata": {},
   "source": [
    "### (1) 데이터 불러오기"
   ]
  },
  {
   "attachments": {},
   "cell_type": "markdown",
   "id": "1d73c037",
   "metadata": {},
   "source": [
    "지난 글에서 생성한 데이터셋을 불러온다. `train`은 2018.01.02 ~ 2020.12.31, `test`는 2021.01.02 ~ 2021.06.31 설정한 데이터셋이다."
   ]
  },
  {
   "cell_type": "markdown",
   "id": "242a5d27",
   "metadata": {},
   "source": [
    "- `train dataset` "
   ]
  },
  {
   "cell_type": "code",
   "execution_count": 2,
   "id": "9bf92ec0",
   "metadata": {},
   "outputs": [],
   "source": [
    "#collapse-hide\n",
    "IF=open(\"assignment3_sql.txt\",'r')\n",
    "lst_code_date=[]\n",
    "trainX=[]\n",
    "trainY=[]\n",
    "for line in IF:\n",
    "    code, date, x, y = line.strip().split(\"\\t\")\n",
    "    lst_code_date.append([code, date])\n",
    "    trainX.append(list(map(int, x.split(\",\"))))\n",
    "    trainY.append(int(y))\n",
    "trainX=pd.DataFrame(trainX)\n",
    "trainY=pd.DataFrame(trainY)"
   ]
  },
  {
   "cell_type": "markdown",
   "id": "79b63a46",
   "metadata": {},
   "source": [
    "- `test dataset` "
   ]
  },
  {
   "cell_type": "code",
   "execution_count": 3,
   "id": "011c0389",
   "metadata": {},
   "outputs": [],
   "source": [
    "#collapse-hide\n",
    "IF=open(\"assignment3_sql_test.txt\",'r')\n",
    "lst_code_date_test=[]\n",
    "testX=[]\n",
    "testY=[]\n",
    "for line in IF:\n",
    "    code, date, x, y = line.strip().split(\"\\t\")\n",
    "    lst_code_date_test.append([code, date])\n",
    "    testX.append(list(map(int, x.split(\",\"))))\n",
    "    testY.append(int(y))\n",
    "testX=pd.DataFrame(testX)\n",
    "testY=pd.DataFrame(testY)"
   ]
  },
  {
   "cell_type": "markdown",
   "id": "25ae3295",
   "metadata": {},
   "source": [
    "- `shape` 확인 "
   ]
  },
  {
   "cell_type": "code",
   "execution_count": 4,
   "id": "93d9d581",
   "metadata": {},
   "outputs": [
    {
     "name": "stdout",
     "output_type": "stream",
     "text": [
      "train dataset:  (11935, 50) (11935, 1)\n",
      "test dataset:  (4431, 50) (4431, 1)\n"
     ]
    }
   ],
   "source": [
    "print(\"train dataset: \", trainX.shape, trainY.shape)\n",
    "print(\"test dataset: \", testX.shape, testY.shape)"
   ]
  },
  {
   "cell_type": "markdown",
   "id": "21180d35",
   "metadata": {},
   "source": [
    "<br>\n",
    "<br>\n",
    "\n",
    "### (2) 주가 예측 머신러닝 모델 학습"
   ]
  },
  {
   "attachments": {},
   "cell_type": "markdown",
   "id": "157b2e67",
   "metadata": {},
   "source": [
    "앞서 불러온 주가 데이터셋으로 여러 개의 머신러닝 모델을 학습한다. 모델은 총 9개의 분류 알고리즘을 사용하여 비교한다. \n",
    "\n",
    "<br>\n",
    "\n",
    "__model list__ \n",
    "- Logistic Regression\n",
    "- Decision tree\n",
    "- Support vector machine\n",
    "- Gaussian naive bayes\n",
    "- K nearest neighbor\n",
    "- Random forest\n",
    "- Gradient boosing\n",
    "- Neural network\n",
    "- XGBoost "
   ]
  },
  {
   "cell_type": "markdown",
   "id": "23c7698e",
   "metadata": {},
   "source": [
    "<br>\n",
    "\n",
    "- 모델학습 "
   ]
  },
  {
   "cell_type": "code",
   "execution_count": 5,
   "id": "b12a808c",
   "metadata": {},
   "outputs": [
    {
     "name": "stdout",
     "output_type": "stream",
     "text": [
      "[00:14:01] WARNING: ../src/learner.cc:1115: Starting in XGBoost 1.3.0, the default evaluation metric used with the objective 'binary:logistic' was changed from 'error' to 'logloss'. Explicitly set eval_metric if you'd like to restore the old behavior.\n"
     ]
    },
    {
     "data": {
      "text/plain": [
       "XGBClassifier(base_score=0.5, booster='gbtree', colsample_bylevel=1,\n",
       "              colsample_bynode=1, colsample_bytree=1, enable_categorical=False,\n",
       "              gamma=0, gpu_id=-1, importance_type=None,\n",
       "              interaction_constraints='', learning_rate=0.01, max_delta_step=0,\n",
       "              max_depth=3, min_child_weight=1, missing=nan,\n",
       "              monotone_constraints='()', n_estimators=500, n_jobs=40,\n",
       "              num_parallel_tree=1, predictor='auto', random_state=0,\n",
       "              reg_alpha=0, reg_lambda=1, scale_pos_weight=4, subsample=1,\n",
       "              tree_method='exact', validate_parameters=1, verbosity=None)"
      ]
     },
     "execution_count": 5,
     "metadata": {},
     "output_type": "execute_result"
    }
   ],
   "source": [
    "from sklearn.model_selection import StratifiedKFold\n",
    "from sklearn.metrics import accuracy_score\n",
    "from sklearn.metrics import roc_auc_score\n",
    "import time\n",
    "\n",
    "results=[]\n",
    "\n",
    "##### 1. Logistic regression    \n",
    "from sklearn.linear_model import LogisticRegression\n",
    "lr = LogisticRegression(max_iter=1000)\n",
    "lr.fit(trainX, trainY)\n",
    "\n",
    "##### 2. Decision tree\n",
    "from sklearn.tree import DecisionTreeClassifier\n",
    "dt = DecisionTreeClassifier()\n",
    "dt.fit(trainX, trainY)\n",
    "\n",
    "##### 3. Support vector machine\n",
    "from sklearn.svm import SVC\n",
    "svc = SVC(probability=True)\n",
    "svc.fit(trainX, trainY)\n",
    "\n",
    "##### 4. Gaussian naive bayes\n",
    "from sklearn.naive_bayes import GaussianNB\n",
    "gnb = GaussianNB()\n",
    "gnb.fit(trainX, trainY)\n",
    "\n",
    "##### 5. K nearest neighbor\n",
    "from sklearn.neighbors import KNeighborsClassifier\n",
    "knn = KNeighborsClassifier()\n",
    "knn.fit(trainX, trainY)\n",
    "\n",
    "##### 6. Random forest\n",
    "from sklearn.ensemble import RandomForestClassifier\n",
    "rf = RandomForestClassifier()\n",
    "rf.fit(trainX, trainY)\n",
    "\n",
    "##### 7. Gradient boosing\n",
    "from sklearn.ensemble import GradientBoostingClassifier\n",
    "gb = GradientBoostingClassifier()\n",
    "gb.fit(trainX, trainY)\n",
    "\n",
    "##### 8. Neural network\n",
    "from sklearn.neural_network import MLPClassifier\n",
    "mlp = MLPClassifier(max_iter=1000)\n",
    "mlp.fit(trainX, trainY)\n",
    "\n",
    "##### XGBoost \n",
    "from xgboost import XGBClassifier\n",
    "xgb = XGBClassifier(\n",
    "                   n_jobs=40,\n",
    "                   scale_pos_weight=4,\n",
    "                   learning_rate=0.01,\n",
    "                   max_depth=3,\n",
    "                   n_estimators=500,\n",
    "                   ) \n",
    "\n",
    "xgb.fit(trainX, trainY)"
   ]
  },
  {
   "attachments": {},
   "cell_type": "markdown",
   "id": "d559ed66",
   "metadata": {},
   "source": [
    "-  예측  \n",
    "\n",
    "학습시킨 모델 별로 Accuracy와 AUC score를 측정하여, `lst_result_acc`, `lst_result_roc` 리스트에 추가한다. "
   ]
  },
  {
   "cell_type": "code",
   "execution_count": 6,
   "id": "addd4e56",
   "metadata": {},
   "outputs": [
    {
     "name": "stdout",
     "output_type": "stream",
     "text": [
      "accuracy list:  [['LogisticRegression', 0.7622957687473817, 0.7734145791017829], ['DecisionTree', 1.0, 0.598059128864816]]\n",
      "\n",
      "auc score list:  [['LogisticRegression', 0.5318105913341066, 0.5430800870053489], ['DecisionTree', 1.0, 0.4824088530616373]]\n"
     ]
    }
   ],
   "source": [
    "lst_model = [lr, dt, svc, gnb, knn, rf, gb, mlp, xgb]\n",
    "\n",
    "dic_model2name = {lr:'LogisticRegression', dt:'DecisionTree', svc:'SVM', \n",
    "                  gnb:'GaussianNaiveBayes', knn:'KNN', rf:'RandomForest', \n",
    "                  gb:'GradientBoosting', mlp:'NeuralNetwork', xgb:'XGBoost'}\n",
    "\n",
    "lst_result_acc = [] # [['모델명', train 평가지표, test 평가지표], ...]\n",
    "lst_result_roc = []\n",
    "\n",
    "for model in lst_model: \n",
    "    # accuracy \n",
    "    predY_train = model.predict(trainX)\n",
    "    predY_test = model.predict(testX)\n",
    "    \n",
    "    accuracy_train = accuracy_score(trainY, predY_train)\n",
    "    accuracy_test = accuracy_score(testY, predY_test)\n",
    "\n",
    "    # auc score \n",
    "    probY_train = model.predict_proba(trainX)[:, 1]\n",
    "    probY_test = model.predict_proba(testX)[:, 1]\n",
    "    \n",
    "    roc_score_train = roc_auc_score(trainY, probY_train)\n",
    "    roc_score_test = roc_auc_score(testY, probY_test)\n",
    "    \n",
    "    # 리스트에 추가 \n",
    "    lst_result_acc.append([dic_model2name[model], accuracy_train, accuracy_test])\n",
    "    lst_result_roc.append([dic_model2name[model], roc_score_train, roc_score_test])\n",
    "    \n",
    "print('accuracy list: ', lst_result_acc[:2])\n",
    "print()\n",
    "print('auc score list: ', lst_result_roc[:2])"
   ]
  },
  {
   "cell_type": "markdown",
   "id": "f556e129",
   "metadata": {},
   "source": [
    "<br>\n",
    "<br>\n",
    "\n",
    "### (3) 평가지표 시각화를 통한 모델 평가"
   ]
  },
  {
   "attachments": {},
   "cell_type": "markdown",
   "id": "946780b0",
   "metadata": {},
   "source": [
    "위에서 얻은 9가지 모델의 평가 지표(`accuracy`, `auc score`) 결과 리스트를 받아 모델 별로 평가지표를 비교하는 `bar graph` 시각화 함수를 작성한다.  \n",
    "`test` 데이터셋의 성능이 높은 순서대로 정렬하여 시각화한다. "
   ]
  },
  {
   "cell_type": "code",
   "execution_count": 10,
   "id": "56306d0f",
   "metadata": {},
   "outputs": [],
   "source": [
    "def result_plot(lst:list, index:str): \n",
    "    '''\n",
    "    lst: [['모델명', 'train 평가지표', 'test 평가지표'], ...]\n",
    "    index: 'acc' or 'auc'\n",
    "    '''\n",
    "    import seaborn as sns\n",
    "    import matplotlib.pyplot as plt\n",
    "    \n",
    "    if index == 'acc': \n",
    "        plt.figure(figsize=(12, 5))  \n",
    "        plt.title(\"ACCURACY\", fontsize=20)\n",
    "        \n",
    "        df = pd.DataFrame(data=lst_result_acc, \n",
    "                     columns=['name', 'train', 'test']).set_index('name')\n",
    "        \n",
    "        df_results = df.reset_index().melt(id_vars='name')\n",
    "      \n",
    "    elif index == 'auc': \n",
    "        plt.figure(figsize=(12, 5))  \n",
    "        plt.title(\"ROCAUC\", fontsize=20)\n",
    "        df = pd.DataFrame(data=lst_result_roc, \n",
    "                     columns=['name', 'train', 'test']).set_index('name')\n",
    "        df_results = df.reset_index().melt(id_vars='name')\n",
    "        \n",
    "    else:\n",
    "        print(\"평가지표를 다시 입력해주세요.\")\n",
    "        \n",
    "      \n",
    "    ax = sns.barplot(x=\"name\", y=\"value\", hue='variable', data=df_results, capsize=.2, \n",
    "                     order=df['test'].sort_values(ascending=False).index)\n",
    "    ax.set(ylim=(0.00, 1.1))\n",
    "    ax.set_xticklabels(ax.get_xticklabels(),rotation=60) \n",
    "    \n",
    "    for p in ax.patches:\n",
    "        height = p.get_height()\n",
    "        ax.text(p.get_x() + p.get_width() / 2., height + 0.01, round(height, 2), ha = 'center', size = 10)\n",
    "\n",
    "    plt.show()"
   ]
  },
  {
   "cell_type": "markdown",
   "id": "aa3190c0",
   "metadata": {},
   "source": [
    "**`Accuracy`**"
   ]
  },
  {
   "cell_type": "code",
   "execution_count": 11,
   "id": "5904eef6",
   "metadata": {},
   "outputs": [
    {
     "data": {
      "image/png": "[encoded data removed]",
      "text/plain": [
       "<Figure size 864x360 with 1 Axes>"
      ]
     },
     "metadata": {
      "needs_background": "light"
     },
     "output_type": "display_data"
    }
   ],
   "source": [
    "result_plot(lst_result_acc, 'acc')"
   ]
  },
  {
   "cell_type": "markdown",
   "id": "0ac47cd3",
   "metadata": {},
   "source": [
    "**`AUROC`**"
   ]
  },
  {
   "cell_type": "code",
   "execution_count": 12,
   "id": "3250e43c",
   "metadata": {},
   "outputs": [
    {
     "data": {
      "image/png": "[encoded data removed]",
      "text/plain": [
       "<Figure size 864x360 with 1 Axes>"
      ]
     },
     "metadata": {
      "needs_background": "light"
     },
     "output_type": "display_data"
    }
   ],
   "source": [
    "result_plot(lst_result_acc, 'auc')"
   ]
  },
  {
   "attachments": {},
   "cell_type": "markdown",
   "id": "58d04e0d-4d39-40a7-8b77-78bfeb358ac3",
   "metadata": {},
   "source": [
    "Accuracy는 Logistic Regression, ROCAUC는 XGBoost가 가장 높은 값을 얻은 것을 확인하였다. "
   ]
  },
  {
   "cell_type": "markdown",
   "id": "8e82fb34",
   "metadata": {},
   "source": [
    "<br>\n",
    "<br>\n",
    "\n",
    "### (4) 모델 선택 "
   ]
  },
  {
   "attachments": {},
   "cell_type": "markdown",
   "id": "ee726de6",
   "metadata": {},
   "source": [
    "- **1) 선택 기준 평가지표 선택 - 종속변수 불균형 문제**  \n",
    "\n",
    "모델 선택을 위해 사용할 평가지표를 선택한다."
   ]
  },
  {
   "cell_type": "code",
   "execution_count": 10,
   "id": "9429e0ca",
   "metadata": {},
   "outputs": [
    {
     "name": "stdout",
     "output_type": "stream",
     "text": [
      "===============train===============\n",
      "0의 비율:  0.7622957687473817\n",
      "1의 비율:  0.23770423125261836\n",
      "\n",
      "===============test================\n",
      "0의 비율:  0.7734145791017829\n",
      "1의 비율:  0.2265854208982171\n",
      "\n"
     ]
    },
    {
     "data": {
      "image/png": "[encoded data removed]",
      "text/plain": [
       "<Figure size 720x216 with 2 Axes>"
      ]
     },
     "metadata": {
      "needs_background": "light"
     },
     "output_type": "display_data"
    }
   ],
   "source": [
    "import seaborn as sns\n",
    "import matplotlib.pyplot as plt\n",
    "\n",
    "fig = plt.figure(figsize=(10, 3))\n",
    "ax1, ax2 = fig.subplots(1, 2).flatten()\n",
    "\n",
    "# countplot 시각화\n",
    "sns.countplot(data=trainY, x=0, ax=ax1)\n",
    "sns.countplot(data=testY, x=0, ax=ax2)\n",
    "\n",
    "# title 설정\n",
    "ax1.set_title(\"train\", fontsize=17)\n",
    "ax2.set_title(\"test\", fontsize=17)\n",
    "\n",
    "# ylim 설정\n",
    "ax1.set_ylim(0, 10500)\n",
    "ax2.set_ylim(0, 3900)\n",
    "\n",
    "# text 추가\n",
    "for p in ax1.patches:\n",
    "    height = p.get_height()\n",
    "    ax1.text(p.get_x() + p.get_width() / 2., height + 200, height, ha = 'center', size = 12)\n",
    "    \n",
    "for p in ax2.patches:\n",
    "    height = p.get_height()\n",
    "    ax2.text(p.get_x() + p.get_width() / 2., height + 80, height, ha = 'center', size = 12)\n",
    "\n",
    "# class 0, 1 비율 계산\n",
    "print(\"===============train===============\")\n",
    "print(\"0의 비율: \", sum(trainY[0] == 0) / (sum(trainY[0]==0) + sum(trainY[0]==1)))\n",
    "print(\"1의 비율: \", sum(trainY[0] == 1) / (sum(trainY[0]==0) + sum(trainY[0]==1)))\n",
    "print()\n",
    "print(\"===============test================\")\n",
    "print(\"0의 비율: \", sum(testY[0] == 0) / (sum(testY[0]==0) + sum(testY[0]==1)))\n",
    "print(\"1의 비율: \", sum(testY[0] == 1) / (sum(testY[0]==0) + sum(testY[0]==1)))\n",
    "print()"
   ]
  },
  {
   "attachments": {},
   "cell_type": "markdown",
   "id": "e02015bb",
   "metadata": {},
   "source": [
    "이진분류 된 종속변수를 `countplot`으로 시각화하여 분포를 살펴보았을 때, 종속변수가 0인 데이터의 비율이 높은 것을 확인할 수 있습니다. 이는 모델이 모두 0이라고 예측해도 정확도가 76~77%가 나온다는 뜻이다. 따라서 정확도는 해당 주가 데이터를 평가하기 위한 지표로는 신뢰성이 떨어진다고 판단되어, `threshold`별 `score`가 결정되는 `ROCAUC score`를 기준으로 모델을 선택한다. "
   ]
  },
  {
   "attachments": {},
   "cell_type": "markdown",
   "id": "b80700c9",
   "metadata": {},
   "source": [
    "<br>\n",
    "\n",
    "- **2) 예측 신뢰성**\n",
    "\n",
    "`test dataset`의 `AUC`가 높은 상위 2개 모델(`XGBoost`, `GradientBoosting`)의 예측 확률을 살펴본다."
   ]
  },
  {
   "cell_type": "code",
   "execution_count": 15,
   "id": "27602cd2",
   "metadata": {},
   "outputs": [
    {
     "name": "stdout",
     "output_type": "stream",
     "text": [
      "XGB: 1268 개\n",
      "GB: 1 개\n"
     ]
    }
   ],
   "source": [
    "xgb_prob = xgb.predict_proba(testX)[:, 1] \n",
    "gb_prob = gb.predict_proba(testX)[:, 1]\n",
    "\n",
    "print('XGB:', sum(xgb_prob >= 0.6), '개')\n",
    "print('GB:', sum(gb_prob >= 0.6), '개')"
   ]
  },
  {
   "attachments": {},
   "cell_type": "markdown",
   "id": "52b79dd4",
   "metadata": {},
   "source": [
    "`class`를 `1`로 예측할 확률이 `60%` 이상인 데이터의 개수를 확인해보면, `XGBoost`는 `1268`개, `GradientBoosting`은 `1`개가 나온다. "
   ]
  },
  {
   "cell_type": "markdown",
   "id": "74cc1f21",
   "metadata": {},
   "source": [
    "-------------"
   ]
  },
  {
   "cell_type": "markdown",
   "id": "f9f4dac4",
   "metadata": {},
   "source": [
    "**1)**, **2)** 를 근거로 하여 여러 머신러닝 모델 중 `AUC` 점수 1위인 동시에, 예측 신뢰성이 더 높다고 판단되는 **`XGBoost`** 를 최종적으로 `baseline` 머신러닝 모델로 결정합니다."
   ]
  },
  {
   "cell_type": "markdown",
   "id": "106392b0",
   "metadata": {},
   "source": [
    "<br>\n",
    "<br>\n",
    "\n",
    "### baseline 모델 정리 및 수익률 측정"
   ]
  },
  {
   "cell_type": "markdown",
   "id": "8e94b257",
   "metadata": {},
   "source": [
    "**baseline 모델 정리**  "
   ]
  },
  {
   "attachments": {},
   "cell_type": "markdown",
   "id": "9d63eecb",
   "metadata": {},
   "source": [
    "- **데이터**   \n",
    "    - 종목: kospi + kosdaq 주식 시장 3년 이상 존속하였던 종목들\n",
    "    - 기간: 2018.01.01-2020.12.31 (총 3년) \n",
    "    - 필터링: 거래대금 1000억 이상 \n",
    "    - 구조: 10일 간의 데이터들을 feature로 두어 시계열 데이터셋 생성\n",
    "\n",
    "\n",
    "- **모델**  \n",
    "XGBClassifier(  \n",
    "                n_jobs=40,  \n",
    "                scale_pos_weight=4,  \n",
    "                learning_rate=0.01,  \n",
    "                max_depth=3,  \n",
    "                n_estimators=500,  \n",
    "                ) \n"
   ]
  },
  {
   "attachments": {},
   "cell_type": "markdown",
   "id": "07806755",
   "metadata": {},
   "source": [
    "**수익률 측정**  \n",
    "baseline모델을 선정하였으므로 프로젝트에서 중요한 부분인 수익률 측정을 수행한다. "
   ]
  },
  {
   "cell_type": "code",
   "execution_count": 17,
   "id": "6350c404",
   "metadata": {},
   "outputs": [
    {
     "name": "stdout",
     "output_type": "stream",
     "text": [
      "XGB: 34 개\n"
     ]
    }
   ],
   "source": [
    "print('XGB:', sum(xgb_prob >= 0.65), '개')"
   ]
  },
  {
   "attachments": {},
   "cell_type": "markdown",
   "id": "78967db3",
   "metadata": {},
   "source": [
    "해당 수익률 계산 시뮬레이션에서는 prob 임계값을 0.65로 설정함으로써 6개월 동안 1~2주에 한번 꼴로 매매가 이루어지도록 하였다. "
   ]
  },
  {
   "cell_type": "code",
   "execution_count": 45,
   "id": "703207d4",
   "metadata": {},
   "outputs": [],
   "source": [
    "def compute_earnings_rate(lst_code_date, probY):\n",
    "    ##### DB \n",
    "    db_dsml = pymysql.connect(\n",
    "        host = 'localhost', \n",
    "        port = 3306, \n",
    "        user = '[db username]', \n",
    "        passwd = '[db password]', \n",
    "        db = '[db name]', \n",
    "        charset = 'utf8'\n",
    "    )\n",
    "    \n",
    "    cursor = db_dsml.cursor()\n",
    "    \n",
    "    ##### 주문 일지 작성 #####\n",
    "    lst_output=[]\n",
    "    for (code, date), y in zip(lst_code_date, probY):\n",
    "        if y >= 0.65: # 예측 확률 (probY) 임계값 0.65 \n",
    "            lst_output.append([code, date, \"buy\", \"all\"])  \n",
    "            lst_output.append([code, date+\"n\", \"sell\", \"all\"])  \n",
    "            \n",
    "    lst_output.sort(key=lambda x:x[1]) # 날짜로 정렬 \n",
    "    \n",
    "    \n",
    "    ##### 수익률 계산 #####\n",
    "    start_money = 10000000 # 초기 현금 1천만원\n",
    "    money = start_money\n",
    "    dic_code2num ={}  # 보유 종목\n",
    "    \n",
    "    for i, row in enumerate(tqdm(lst_output)): # 주문 일지를 한 줄 읽어 옴\n",
    "        code, date, request, amount = row\n",
    "\n",
    "        sql_query = '''\n",
    "                    SELECT *\n",
    "                    FROM stock_{}\n",
    "                    WHERE Date BETWEEN '2021-01-01' AND '2021-06-31'\n",
    "                    '''.format(code)\n",
    "        stock = pd.read_sql(sql = sql_query, con = db_dsml)\n",
    "        lst_data = stock.values.tolist()    \n",
    "\n",
    "        \n",
    "        for idx, row in enumerate(lst_data):\n",
    "            data_date = row[0].date().strftime('%Y%m%d')\n",
    "\n",
    "            if 'n' in date: # 매도 날짜\n",
    "                date_n = date[:-1]\n",
    "                if data_date == date_n: \n",
    "                    close = lst_data[idx+1][-3] # 매도 할 종가 (매수 다음날 종가)\n",
    "                    break            \n",
    "\n",
    "            else: # 매수 날짜 \n",
    "                if data_date == date:\n",
    "                    close = row[-3] # 매수 할 종가 \n",
    "                    break\n",
    "        \n",
    "        if request == 'buy': # 매수 \n",
    "            if amount.startswith('r'): # 분할 매수 시 사용 \n",
    "                request_money = money * float(amount.lstrip(\"r\")) / 100\n",
    "            elif amount == 'all':\n",
    "                request_money = money\n",
    "            elif amount.isdigit():\n",
    "                request_money = int(amount)\n",
    "            else:\n",
    "                raise Exception('Not permitted option')\n",
    "                \n",
    "            request_money = min(request_money, money)\n",
    "            \n",
    "            buy_num = int(request_money / close) # 매수 개수 \n",
    "            \n",
    "            money -= buy_num * close  # 매수 후 잔고 업데이트 \n",
    "            \n",
    "            if code not in dic_code2num: # 현재 보유종목이 아니라면 \n",
    "                dic_code2num[code] = 0 # dict에 key 생성 \n",
    "                \n",
    "            dic_code2num[code] += buy_num # 해당 종목의 보유 개수 업데이트\n",
    "            \n",
    "        if request == 'sell': # 매도 \n",
    "            if amount == 'all':   \n",
    "                sell_num = dic_code2num[code] # 해당 종목의 보유하고 있는 모든 개수 매도\n",
    "            else:\n",
    "                raise Exception('Not permitted option')       \n",
    "                \n",
    "            money += sell_num * close # 매도 후 잔고 업데이트 \n",
    "            \n",
    "            dic_code2num[code] -= sell_num # 해당 종목 매도 후 보유 개수 업데이트 \n",
    "            if dic_code2num[code] == 0: # 해당 종목이 보유하고 있는 개수가 없다면 \n",
    "                del dic_code2num[code] # 보유종목에서 삭제 \n",
    "\n",
    "    if dic_code2num != {}: # 주문일지를 모두 돌고난 후에는 보유종목 dict가 비어있어야 함. \n",
    "        raise Exception('Not empty stock') \n",
    "\n",
    "    print(\"Final earning rate : {} %\".format(str((money-start_money) / start_money * 100)))\n",
    "#     return str((money-start_money) / start_money * 100)"
   ]
  },
  {
   "cell_type": "code",
   "execution_count": 46,
   "id": "4ca6a699",
   "metadata": {},
   "outputs": [
    {
     "name": "stderr",
     "output_type": "stream",
     "text": [
      "100%|█████████████████████████████████████████████| 68/68 [00:00<00:00, 265.33it/s]"
     ]
    },
    {
     "name": "stdout",
     "output_type": "stream",
     "text": [
      "Final earning rate : 54.73516000000001 %\n"
     ]
    },
    {
     "name": "stderr",
     "output_type": "stream",
     "text": [
      "\n"
     ]
    }
   ],
   "source": [
    "compute_earnings_rate(lst_code_date_test, xgb_prob)"
   ]
  },
  {
   "attachments": {},
   "cell_type": "markdown",
   "id": "5d971ad2",
   "metadata": {},
   "source": [
    "최종적으로 baseline 모델의 수익률을 계산해봤을 때, 6개월간의 총 수익률은 약 54%가 나왔다. 평가지표인 ROCAUC score는 낮은 편에 속했지만, 높은 수익률을 보였다.   \n",
    "다음 글 부터는 `data preprocessing`을 진행하며, 주가 빅데이터의 질을 높여  baseline model 보다 뛰어난 성능을 보이도록 개선한다. "
   ]
  }
 ],
 "metadata": {
  "kernelspec": {
   "display_name": "Python 3 (ipykernel)",
   "language": "python",
   "name": "python3"
  },
  "language_info": {
   "codemirror_mode": {
    "name": "ipython",
    "version": 3
   },
   "file_extension": ".py",
   "mimetype": "text/x-python",
   "name": "python",
   "nbconvert_exporter": "python",
   "pygments_lexer": "ipython3",
   "version": "3.9.12"
  },
  "toc": {
   "base_numbering": 1,
   "nav_menu": {},
   "number_sections": false,
   "sideBar": true,
   "skip_h1_title": false,
   "title_cell": "Table of Contents",
   "title_sidebar": "Contents",
   "toc_cell": false,
   "toc_position": {},
   "toc_section_display": true,
   "toc_window_display": false
  }
 },
 "nbformat": 4,
 "nbformat_minor": 5
}
